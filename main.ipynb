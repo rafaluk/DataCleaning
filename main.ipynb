{
 "cells": [
  {
   "cell_type": "markdown",
   "metadata": {},
   "source": [
    "# Data Cleaning project\n",
    "A pre-EDA step."
   ]
  },
  {
   "cell_type": "code",
   "execution_count": 1,
   "metadata": {},
   "outputs": [],
   "source": [
    "import pandas as pd\n",
    "import matplotlib.pyplot as plt"
   ]
  },
  {
   "cell_type": "code",
   "execution_count": 3,
   "metadata": {},
   "outputs": [
    {
     "data": {
      "text/plain": [
       "WindowsPath('C:/Users/rafal.klat/Jupyters/DataCleaning')"
      ]
     },
     "execution_count": 3,
     "metadata": {},
     "output_type": "execute_result"
    }
   ],
   "source": [
    "import pathlib\n",
    "pathlib.Path().absolute()"
   ]
  },
  {
   "cell_type": "code",
   "execution_count": 86,
   "metadata": {},
   "outputs": [],
   "source": [
    "df = pd.read_csv('dataset.csv')\n",
    "# OGARNĄĆ I OPISAĆ ŹRÓDŁO\n",
    "# https://www.quora.com/Where-can-I-get-messy-data-to-work-on-data-cleaning-skills"
   ]
  },
  {
   "cell_type": "code",
   "execution_count": 139,
   "metadata": {},
   "outputs": [
    {
     "data": {
      "text/plain": [
       "array([nan, 'P0049-101', 'P0049-102', ..., '3830', '3831', '3832'],\n",
       "      dtype=object)"
      ]
     },
     "execution_count": 139,
     "metadata": {},
     "output_type": "execute_result"
    }
   ],
   "source": [
    "# df.drop(labels=['Unique Project ID'], axis=1, inplace=True)\n",
    "# df.to_csv('dataset.csv')\n",
    "# df.drop(labels=['Unnamed: 0', 'Unnamed: 0.1', 'Unnamed: 0.1.1'], axis=1, inplace=True)\n",
    "# df.rename(columns={'Agency Code':'Agency ID'}, inplace=True)\n",
    "df['Agency Project ID'].unique()"
   ]
  },
  {
   "cell_type": "code",
   "execution_count": 105,
   "metadata": {},
   "outputs": [
    {
     "data": {
      "text/plain": [
       "Investment ID                                     object\n",
       "Business Case ID                                   int32\n",
       "Agency Code                                      float64\n",
       "Agency Name                                       object\n",
       "Investment Title                                  object\n",
       "Project ID                                       float64\n",
       "Agency Project ID                                 object\n",
       "Project Name                                      object\n",
       "Project Description                               object\n",
       "Start Date                                        object\n",
       "Completion Date (B1)                              object\n",
       "Planned Project Completion Date (B2)              object\n",
       "Projected/Actual Project Completion Date (B2)     object\n",
       "Planned Cost ($ M)                               float64\n",
       "Projected/Actual Cost ($ M)                      float64\n",
       "Updated Date                                      object\n",
       "Updated Time                                      object\n",
       "dtype: object"
      ]
     },
     "execution_count": 105,
     "metadata": {},
     "output_type": "execute_result"
    }
   ],
   "source": [
    "# df.rename(columns={'Unique Investment Identifier':'Investment ID'}, inplace=True)\n",
    "df['Business Case ID'] = df['Business Case ID'].astype(int)\n",
    "# indices_to_drop = df.loc[df['Business Case ID'].isna()].index\n",
    "# df.drop(indices_to_drop, inplace=True)\n",
    "# df['Business Case ID'].sort_values()\n",
    "df.dtypes"
   ]
  },
  {
   "cell_type": "code",
   "execution_count": 59,
   "metadata": {},
   "outputs": [
    {
     "name": "stdout",
     "output_type": "stream",
     "text": [
      "<class 'pandas.core.frame.DataFrame'>\n",
      "RangeIndex: 2494 entries, 0 to 2493\n",
      "Data columns (total 20 columns):\n",
      "Unnamed: 0                                       2494 non-null int64\n",
      "Unnamed: 0.1                                     2494 non-null int64\n",
      "Unique Investment Identifier                     2494 non-null object\n",
      "Business Case ID                                 2468 non-null float64\n",
      "Agency Code                                      2468 non-null float64\n",
      "Agency Name                                      2468 non-null object\n",
      "Investment Title                                 2468 non-null object\n",
      "Project ID                                       2468 non-null float64\n",
      "Agency Project ID                                1313 non-null object\n",
      "Project Name                                     2468 non-null object\n",
      "Project Description                              2468 non-null object\n",
      "Start Date                                       2451 non-null object\n",
      "Completion Date (B1)                             2451 non-null object\n",
      "Planned Project Completion Date (B2)             1547 non-null object\n",
      "Projected/Actual Project Completion Date (B2)    1547 non-null object\n",
      "Planned Cost ($ M)                               2477 non-null float64\n",
      "Projected/Actual Cost ($ M)                      2477 non-null float64\n",
      "Updated Date                                     2468 non-null object\n",
      "Updated Time                                     2468 non-null object\n",
      "Unique Project ID                                2468 non-null object\n",
      "dtypes: float64(5), int64(2), object(13)\n",
      "memory usage: 389.8+ KB\n"
     ]
    }
   ],
   "source": [
    "df.info()"
   ]
  },
  {
   "cell_type": "code",
   "execution_count": 78,
   "metadata": {},
   "outputs": [],
   "source": [
    "# There are rows with Totals. It doesn't add any value, but only complicates the analysis.\n",
    "indices_to_drop = df.loc[df['Business Case ID'].isna()].index\n",
    "df.drop(indices_to_drop, inplace=True)"
   ]
  },
  {
   "cell_type": "code",
   "execution_count": 66,
   "metadata": {},
   "outputs": [
    {
     "data": {
      "text/plain": [
       "2469"
      ]
     },
     "execution_count": 66,
     "metadata": {},
     "output_type": "execute_result"
    },
    {
     "data": {
      "image/png": "[encoded data removed]",
      "text/plain": [
       "<Figure size 432x288 with 1 Axes>"
      ]
     },
     "metadata": {
      "needs_background": "light"
     },
     "output_type": "display_data"
    }
   ],
   "source": [
    "x = df[df['Projected/Actual Cost ($ M)']<1000]['Projected/Actual Cost ($ M)']\n",
    "y = range(len(x))\n",
    "\n",
    "# plt.hist(x, bins=100)\n",
    "# plt.yscale('log')\n",
    "plt.scatter(x,y)\n",
    "len(x)"
   ]
  },
  {
   "cell_type": "code",
   "execution_count": null,
   "metadata": {},
   "outputs": [],
   "source": [
    "# todo:\n",
    "\n",
    "# Unique Investment Identifier - czy tam zawsze jest 005?\n",
    "#Business Case ID, Agency Code, Project ID - wyglada, ze to moga byc inty\n",
    "# Agency Name - moze to sa tylko departamenty?\n",
    "# dates i times -> timestamps\n",
    "# Cost Variance - dobre jednostki? \n",
    "# unique porojet id moze jako pierwsze/drugie?\n",
    "# NaN -> None/null\n",
    "# project name - powtarzaja sie, ale prawie (np. 3 i 4)\n",
    "# inny index (któreś ID)\n",
    "# project ID vs unique project ID\n",
    "# czy w Agency Project ID cos w ogole jkest?\n",
    "# ID vs Identifier\n",
    "# 1 kolumna z unique ID nie jest unique\n",
    "\n",
    "\n",
    "#sprawdzic unique values\n",
    "# info() - tylko objects i float64\n",
    "# describe()\n",
    "# min i max\n"
   ]
  },
  {
   "cell_type": "markdown",
   "metadata": {},
   "source": [
    "## Cleaning columns one by one\n",
    "1. `Unique Investment Identifier`:\n",
    "    1. Not unique, despite the name. It shouldn't be the first column, because it looks like Primary Key.\n",
    "\t2. **Identifier** could be **ID**."
   ]
  },
  {
   "cell_type": "code",
   "execution_count": null,
   "metadata": {},
   "outputs": [],
   "source": [
    "# Rename the column\n",
    "df.rename(columns={'Unique Investment Identifier':'Investment ID'}, inplace=True)"
   ]
  },
  {
   "cell_type": "markdown",
   "metadata": {},
   "source": [
    "2. `Business Case ID`\n",
    "    1. It is float, but should be int.\n",
    "    2. It corresponds 1:1 with `Investment ID`, so it should be kept in another lookup table.\n",
    "    3. There are some `NInvestment IDaN` values. These are rows with totals and they should be removed - they don't add any value, but only complicate an analysis."
   ]
  },
  {
   "cell_type": "code",
   "execution_count": 144,
   "metadata": {},
   "outputs": [],
   "source": [
    "# Drop rows with totals\n",
    "indices_to_drop = df.loc[df['Business Case ID'].isna()].index\n",
    "df.drop(indices_to_drop, inplace=True)\n",
    "\n",
    "# Change type to int\n",
    "df['Business Case ID'] = df['Business Case ID'].astype(int)\n",
    "\n",
    "# Save into another DF\n",
    "business_case = pd.DataFrame(data=df[['Investment ID', 'Business Case ID']])\n",
    "business_case.drop_duplicates(inplace=True)\n",
    "business_case.set_index(keys='Investment ID', inplace=True)\n",
    "\n",
    "# Export into a file\n",
    "business_case.to_csv('business_case.csv')\n",
    "\n",
    "# Drop extracted columns\n",
    "df.drop(labels=['Investment ID', 'Business Case ID'], axis=1, inplace=True)"
   ]
  },
  {
   "cell_type": "markdown",
   "metadata": {},
   "source": [
    "3. `Agency Code`\n",
    "    1. **Code** could be **ID**.\n",
    "\t2. It is float, but should be int."
   ]
  },
  {
   "cell_type": "code",
   "execution_count": 118,
   "metadata": {},
   "outputs": [],
   "source": [
    "# Rename the column to `Agency ID`:\n",
    "df.rename(columns={'Agency Code':'Agency ID'}, inplace=True)\n",
    "\n",
    "# Change type to int\n",
    "df['Agency ID'] = df['Agency ID'].astype(int)"
   ]
  },
  {
   "cell_type": "markdown",
   "metadata": {},
   "source": [
    "4. `Agency Name`\n",
    "\t1. It corresponds 1:1 with `Agency Code`, so it should be kept in another lookup table. In fact there are only two cases in whole DataFrame, where `Agency ID` doesn't reflect `Agency Name` ideally. By comparing lengths of `Agency ID`, `Agency Name` and pair of these two, we see that there is **one more of unique entries** within Code+Name pair. By checking uniqueness we can conclude that value `6` is our point of pain. Two entries, which have wrong `Agency ID` values (not `Agency Name`, what can be easily deduced from other entries), should have `5`. "
   ]
  },
  {
   "cell_type": "code",
   "execution_count": 133,
   "metadata": {},
   "outputs": [],
   "source": [
    "# Define indices of rows to be changed\n",
    "indices_to_change = df[(df['Agency ID'] == 6) & (df['Agency Name'] != 'Department of Commerce')].index\n",
    "\n",
    "# Assign new values\n",
    "for index in indices_to_change:\n",
    "    df.at[index, 'Agency ID'] = 5"
   ]
  },
  {
   "cell_type": "markdown",
   "metadata": {},
   "source": [
    "5. `Investment Title`\n",
    "    1. There are some minor formatting problems (e.g. '&amp;' instead of '&'), however they won't be touched, because these are long business names and could be defined and described somewhere else with whichever formatting."
   ]
  },
  {
   "cell_type": "markdown",
   "metadata": {},
   "source": [
    "6. `Project ID`\n",
    "    1. It's a float, but should be an int.\n",
    "\t2. It's unique, so it should be the Primary Key and the first column in data set. This fits also the business context of the whole data set. "
   ]
  },
  {
   "cell_type": "code",
   "execution_count": 135,
   "metadata": {},
   "outputs": [],
   "source": [
    "# Change type to int\n",
    "df['Project ID'] = df['Project ID'].astype(int)\n",
    "\n",
    "# Set index\n",
    "df.set_index(keys='Project ID', inplace=True)"
   ]
  },
  {
   "cell_type": "markdown",
   "metadata": {},
   "source": [
    "7. `Agency Project ID`\n",
    "\t1. Almost half of the values are NaN (but read by Pandas correctly). Since these are some IDs of internal use of agencies, they won't be touched."
   ]
  },
  {
   "cell_type": "markdown",
   "metadata": {},
   "source": [
    "8. `Project Name`\n",
    "\t1. It corresponds with `Project ID`, so it should be kept in another lookup table with `Project Description` (see next point) in a `project_descriptions` table."
   ]
  },
  {
   "cell_type": "markdown",
   "metadata": {},
   "source": [
    "9. `Project Description`\n",
    "\t1. It corresponds with `Project ID`, so it should be kept in another lookup table with `Project Name` in a `project_descriptions` table."
   ]
  },
  {
   "cell_type": "code",
   "execution_count": 145,
   "metadata": {},
   "outputs": [],
   "source": [
    "# Save into another DF\n",
    "project_descriptions = pd.DataFrame(data=df[['Project Name', 'Project Description']])\n",
    "project_descriptions.drop_duplicates(inplace=True)\n",
    "\n",
    "# Export into a file\n",
    "project_descriptions.to_csv('project_descriptions.csv')\n",
    "\n",
    "# Drop extracted columns\n",
    "df.drop(labels=['Project Name', 'Project Description'], axis=1, inplace=True)"
   ]
  },
  {
   "cell_type": "markdown",
   "metadata": {},
   "source": [
    "10. `Start Date`\n",
    "\t1. It's an object (Pandas' string), but should be a date."
   ]
  },
  {
   "cell_type": "code",
   "execution_count": 151,
   "metadata": {},
   "outputs": [],
   "source": [
    "df['Start Date'] = pd.to_datetime(arg=df['Start Date'])"
   ]
  },
  {
   "cell_type": "markdown",
   "metadata": {},
   "source": [
    "11. `Completion Date (B1)`\n",
    "\t1. It's an object, but should be a date.\n",
    "\t2. Multiple formats (`2012-30-09`, `31/03/2012`)"
   ]
  },
  {
   "cell_type": "code",
   "execution_count": 174,
   "metadata": {},
   "outputs": [],
   "source": [
    "import re\n",
    "\n",
    "# Define a parser for two different formats\n",
    "def date_parser(arg):\n",
    "    p = re.compile('[0-9]{4}-[0-9]{2}-[0-9]{2}')\n",
    "    if p.match(str(arg)):\n",
    "        return pd.to_datetime(arg=arg, format='%Y-%d-%m')\n",
    "    return pd.to_datetime(arg=arg)"
   ]
  },
  {
   "cell_type": "code",
   "execution_count": 176,
   "metadata": {},
   "outputs": [
    {
     "data": {
      "text/plain": [
       "Agency ID                                                 int32\n",
       "Agency Name                                              object\n",
       "Investment Title                                         object\n",
       "Agency Project ID                                        object\n",
       "Start Date                                       datetime64[ns]\n",
       "Completion Date (B1)                                     object\n",
       "Planned Project Completion Date (B2)                     object\n",
       "Projected/Actual Project Completion Date (B2)            object\n",
       "Planned Cost ($ M)                                      float64\n",
       "Projected/Actual Cost ($ M)                             float64\n",
       "Updated Date                                             object\n",
       "Updated Time                                             object\n",
       "dtype: object"
      ]
     },
     "execution_count": 176,
     "metadata": {},
     "output_type": "execute_result"
    }
   ],
   "source": [
    "df['Completion Date (B1)'] = df['Completion Date (B1)'].apply(date_parser)\n",
    "df.dtypes"
   ]
  },
  {
   "cell_type": "markdown",
   "metadata": {},
   "source": [
    "12. `Planned Project Completion Date (B2)`\n",
    "\t1. It's an object, but should be a date.\n",
    "\t2. Multiple formats (`2012-30-09`, `31/03/2012`)\n"
   ]
  },
  {
   "cell_type": "markdown",
   "metadata": {},
   "source": [
    "13. `Projected/Actual Project Completion Date (B2)`\n",
    "\t1. It's an object, but should be a date.\n",
    "\t2. Multiple formats (`2012-30-09`, `31/03/2012`)"
   ]
  },
  {
   "cell_type": "markdown",
   "metadata": {},
   "source": [
    "14. `Planned Cost ($ M)`\n",
    "\t1. 2459 out of 2494 (~98,5%) values are lower than 1000, the units better be Thousands, not Millions, to ease the analysis and interpretation."
   ]
  },
  {
   "cell_type": "markdown",
   "metadata": {},
   "source": [
    "15. `Projected/Actual Cost ($ M)`\n",
    "\t1. 2469 out of 2494 (~99%) values are lower than 1000, the units better be Thousands, not Millions, to ease the analysis and interpretation."
   ]
  },
  {
   "cell_type": "markdown",
   "metadata": {},
   "source": [
    "16. `Updated Date`\n",
    "\t1. Should be merged with `Update Time` as a timestamp."
   ]
  },
  {
   "cell_type": "markdown",
   "metadata": {},
   "source": [
    "17. `Updated Time`\n",
    "\t1. Should be merged with `Update Date` as a timestamp."
   ]
  }
 ],
 "metadata": {
  "kernelspec": {
   "display_name": "Python 3",
   "language": "python",
   "name": "python3"
  },
  "language_info": {
   "codemirror_mode": {
    "name": "ipython",
    "version": 3
   },
   "file_extension": ".py",
   "mimetype": "text/x-python",
   "name": "python",
   "nbconvert_exporter": "python",
   "pygments_lexer": "ipython3",
   "version": "3.7.3"
  }
 },
 "nbformat": 4,
 "nbformat_minor": 2
}
