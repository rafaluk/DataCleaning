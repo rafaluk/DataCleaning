{
 "cells": [
  {
   "cell_type": "markdown",
   "metadata": {},
   "source": [
    "# Data Cleaning project"
   ]
  },
  {
   "cell_type": "code",
   "execution_count": 1,
   "metadata": {},
   "outputs": [],
   "source": [
    "# Cleaning will be performed mainly with Pandas.\n",
    "import pandas as pd"
   ]
  },
  {
   "cell_type": "markdown",
   "metadata": {},
   "source": [
    "## Data set\n",
    "The data set is an extract from American `itdashboard.gov` archive. It containt information about governmental IT projects, their dates, costs, stakeholders (i.e. specific departments)."
   ]
  },
  {
   "cell_type": "code",
   "execution_count": 2,
   "metadata": {},
   "outputs": [],
   "source": [
    "df = pd.read_csv('dataset.csv', index_col=False)"
   ]
  },
  {
   "cell_type": "markdown",
   "metadata": {},
   "source": [
    "## Cleaning columns one by one\n",
    "1. `Unique Investment Identifier`:\n",
    "    1. Not unique, despite the name. It shouldn't be the first column, because it looks like Primary Key.\n",
    "\t2. **Identifier** could be **ID**."
   ]
  },
  {
   "cell_type": "code",
   "execution_count": 3,
   "metadata": {},
   "outputs": [],
   "source": [
    "# Rename the column\n",
    "df.rename(columns={'Unique Investment Identifier':'Investment ID'}, inplace=True)"
   ]
  },
  {
   "cell_type": "markdown",
   "metadata": {},
   "source": [
    "2. `Business Case ID`\n",
    "    1. It is float, but should be int.\n",
    "    2. It corresponds 1:1 with `Investment ID`, so it should be kept in another lookup table. The same with `Investment Title`.\n",
    "    3. There are some `NaN` values. These are rows with totals and they should be removed - they don't add any value, but only complicate an analysis."
   ]
  },
  {
   "cell_type": "code",
   "execution_count": 4,
   "metadata": {},
   "outputs": [],
   "source": [
    "# Drop rows with totals\n",
    "indices_to_drop = df.loc[df['Business Case ID'].isna()].index\n",
    "df.drop(indices_to_drop, inplace=True)\n",
    "\n",
    "# Change type to int\n",
    "df['Business Case ID'] = df['Business Case ID'].astype(int)\n",
    "\n",
    "# Save into another DF\n",
    "investments = pd.DataFrame(data=df[['Investment ID', 'Business Case ID', 'Investment Title']])\n",
    "investments.drop_duplicates(inplace=True)\n",
    "investments.set_index(keys='Investment ID', inplace=True)\n",
    "\n",
    "# Export into a file\n",
    "investments.to_csv('investments.csv')\n",
    "\n",
    "# Drop extracted columns\n",
    "df.drop(labels=['Business Case ID', 'Investment Title'], axis=1, inplace=True)"
   ]
  },
  {
   "cell_type": "markdown",
   "metadata": {},
   "source": [
    "3. `Agency Code`\n",
    "    1. **Code** could be **ID**.\n",
    "\t2. It is float, but should be int."
   ]
  },
  {
   "cell_type": "code",
   "execution_count": 5,
   "metadata": {},
   "outputs": [],
   "source": [
    "# Rename the column to `Agency ID`:\n",
    "df.rename(columns={'Agency Code':'Agency ID'}, inplace=True)\n",
    "\n",
    "# Change type to int\n",
    "df['Agency ID'] = df['Agency ID'].astype(int)"
   ]
  },
  {
   "cell_type": "markdown",
   "metadata": {},
   "source": [
    "4. `Agency Name`\n",
    "\t1. It corresponds 1:1 with `Agency Code`, so it should be kept in another lookup table. In fact there are only two cases in whole DataFrame, where `Agency ID` doesn't reflect `Agency Name` ideally. By comparing lengths of `Agency ID`, `Agency Name` and pair of these two, we see that there is **one more of unique entries** within Code+Name pair. By checking uniqueness we can conclude that value `6` is our point of pain. Two entries, which have wrong `Agency ID` values (not `Agency Name`, what can be easily deduced from other entries), should have `5`. \n",
    "    2. Names should be extracted to separate table."
   ]
  },
  {
   "cell_type": "code",
   "execution_count": 6,
   "metadata": {},
   "outputs": [],
   "source": [
    "# Define indices of rows to be changed\n",
    "indices_to_change = df[(df['Agency ID'] == 6) & (df['Agency Name'] != 'Department of Commerce')].index\n",
    "\n",
    "# Assign new values\n",
    "for index in indices_to_change:\n",
    "    df.at[index, 'Agency ID'] = 5\n",
    "    \n",
    "# Save into another DF\n",
    "col_agencies = ['Agency ID', 'Agency Name']\n",
    "agencies = pd.DataFrame(data=df[col_agencies])\n",
    "agencies.drop_duplicates(inplace=True)\n",
    "\n",
    "# Export into a file\n",
    "agencies.to_csv('agencies.csv')\n",
    "\n",
    "# Drop extracted columns\n",
    "df.drop(labels=['Agency Name'], axis=1, inplace=True)"
   ]
  },
  {
   "cell_type": "markdown",
   "metadata": {},
   "source": [
    "5. `Investment Title`\n",
    "    1. It has been extracted with `Investment ID`."
   ]
  },
  {
   "cell_type": "markdown",
   "metadata": {},
   "source": [
    "6. `Project ID`\n",
    "    1. It's a float, but should be an int.\n",
    "\t2. It's unique, so it should be the Primary Key and the first column in data set. This fits also the business context of the whole data set. "
   ]
  },
  {
   "cell_type": "code",
   "execution_count": 7,
   "metadata": {},
   "outputs": [],
   "source": [
    "# Change type to int\n",
    "df['Project ID'] = df['Project ID'].astype(int)\n",
    "\n",
    "# Set index\n",
    "df.set_index(keys='Project ID', inplace=True)"
   ]
  },
  {
   "cell_type": "markdown",
   "metadata": {},
   "source": [
    "7. `Agency Project ID`\n",
    "\t1. Almost half of the values are NaN (but read by Pandas correctly). Since these are some IDs of internal use of agencies, they won't be touched.\n",
    "    2. Should be extrated with to separate table."
   ]
  },
  {
   "cell_type": "code",
   "execution_count": 8,
   "metadata": {},
   "outputs": [],
   "source": [
    "# Save into another DF\n",
    "col_agency_projects = ['Agency ID', 'Agency Project ID']\n",
    "agency_projects = pd.DataFrame(data=df[col_agency_projects].dropna())\n",
    "agency_projects.set_index(keys='Agency Project ID', inplace=True)\n",
    "agency_projects.drop_duplicates(inplace=True)\n",
    "\n",
    "# Export into a file\n",
    "agency_projects.to_csv('agency_projects.csv')\n",
    "\n",
    "# Drop extracted columns\n",
    "df.drop(labels=['Agency ID'], axis=1, inplace=True)"
   ]
  },
  {
   "cell_type": "markdown",
   "metadata": {},
   "source": [
    "8. `Project Name`\n",
    "\t1. It corresponds with `Project ID`, so it should be kept in another lookup table with `Project Description` (see next point) in a `project_descriptions` table."
   ]
  },
  {
   "cell_type": "markdown",
   "metadata": {},
   "source": [
    "9. `Project Description`\n",
    "\t1. It corresponds with `Project ID`, so it should be kept in another lookup table with `Project Name` in a `project_descriptions` table."
   ]
  },
  {
   "cell_type": "code",
   "execution_count": 9,
   "metadata": {},
   "outputs": [],
   "source": [
    "# Save into another DF\n",
    "project_descriptions = pd.DataFrame(data=df[['Project Name', 'Project Description']])\n",
    "project_descriptions.drop_duplicates(inplace=True)\n",
    "\n",
    "# Export into a file\n",
    "project_descriptions.to_csv('project_descriptions.csv')\n",
    "\n",
    "# Drop extracted columns\n",
    "df.drop(labels=['Project Name', 'Project Description'], axis=1, inplace=True)"
   ]
  },
  {
   "cell_type": "markdown",
   "metadata": {},
   "source": [
    "### Date columns\n",
    "10. `Start Date`, 11. `Completion Date (B1)`, 12. `Planned Project Completion Date (B2)`, 13. `Projected/Actual Project Completion Date (B2)`\n",
    "\t1. They are objects (Pandas' string), but should be dates.\n",
    "    2. All dates should be extracted to separate table (not obligatory, but it's good not to mix a business contexts).\n",
    "    3. Multiple formats (`2012-30-09`, `31/03/2012`)\n",
    "    4. Column names too long.\n",
    "    5. Since there also `Completion Date (B1)`, `Planned Project Completion Date (B2)` and `Projected/Actual Project Completion Date (B2)`, a purpose of these columns is unobvious. However the full business context is not known, so they won't be deleted or merged."
   ]
  },
  {
   "cell_type": "code",
   "execution_count": 10,
   "metadata": {},
   "outputs": [],
   "source": [
    "import re\n",
    "\n",
    "# Rename the columns\n",
    "col_renames = {'Start Date':'Start',\n",
    "               'Completion Date (B1)':'Completion',\n",
    "               'Planned Project Completion Date (B2)':'Planned Completion',\n",
    "               'Projected/Actual Project Completion Date (B2)':'Projected/Actual Completion'}\n",
    "df.rename(columns=col_renames, inplace=True)\n",
    "\n",
    "# Define a parser for two different formats\n",
    "pattern = re.compile('[0-9]{4}-[0-9]{2}-[0-9]{2}')\n",
    "\n",
    "def date_parser(arg):\n",
    "    global pattern\n",
    "    if pattern.match(str(arg)):\n",
    "        return pd.to_datetime(arg=arg, format='%Y-%d-%m')\n",
    "    return pd.to_datetime(arg=arg)\n",
    "\n",
    "# Parse dates\n",
    "col_dates = ['Start', 'Completion', 'Planned Completion', 'Projected/Actual Completion']\n",
    "\n",
    "for col in col_dates:\n",
    "    df[col] = df[col].apply(date_parser)\n",
    "\n",
    "# Extract dates\n",
    "dates = pd.DataFrame(data=df[col_dates])\n",
    "\n",
    "# Export into a file\n",
    "dates.to_csv('dates.csv')\n",
    "\n",
    "# Drop extracted columns\n",
    "df.drop(labels=col_dates, axis=1, inplace=True)"
   ]
  },
  {
   "cell_type": "markdown",
   "metadata": {},
   "source": [
    "### Cost columns\n",
    "14. `Planned Cost ($ M)`, 15. `Projected/Actual Cost ($ M)`\n",
    "\t1. Columns should be extracted to separate table (not obligatory, but it's good not to mix a business contexts)."
   ]
  },
  {
   "cell_type": "code",
   "execution_count": 11,
   "metadata": {},
   "outputs": [],
   "source": [
    "col_costs = ['Planned Cost ($ M)', 'Projected/Actual Cost ($ M)']\n",
    "\n",
    "# Extract costs\n",
    "costs = pd.DataFrame(data=df[col_costs])\n",
    "\n",
    "# Export into a file\n",
    "costs.to_csv('costs.csv')\n",
    "\n",
    "# Drop extracted columns\n",
    "df.drop(labels=col_costs, axis=1, inplace=True)"
   ]
  },
  {
   "cell_type": "markdown",
   "metadata": {},
   "source": [
    "### Update columns\n",
    "16. `Updated Date`, 17. `Updated Time`\n",
    "\t1. Should be merged together as a timestamp."
   ]
  },
  {
   "cell_type": "code",
   "execution_count": 12,
   "metadata": {},
   "outputs": [],
   "source": [
    "df['Updated'] = df['Updated Date'] + \" \" + df['Updated Time']\n",
    "df['Updated'] = pd.to_datetime(arg=df['Updated'], format='%d/%m/%Y %H:%M:%S')\n",
    "\n",
    "# Drop merged columns\n",
    "df.drop(labels=['Updated Date', 'Updated Time'], axis=1, inplace=True)"
   ]
  },
  {
   "cell_type": "markdown",
   "metadata": {},
   "source": [
    "## Output cleaned tables\n",
    "1. "
   ]
  },
  {
   "cell_type": "code",
   "execution_count": 13,
   "metadata": {},
   "outputs": [],
   "source": [
    "df.sort_index(inplace=True)"
   ]
  }
 ],
 "metadata": {
  "kernelspec": {
   "display_name": "Python 3",
   "language": "python",
   "name": "python3"
  },
  "language_info": {
   "codemirror_mode": {
    "name": "ipython",
    "version": 3
   },
   "file_extension": ".py",
   "mimetype": "text/x-python",
   "name": "python",
   "nbconvert_exporter": "python",
   "pygments_lexer": "ipython3",
   "version": "3.7.3"
  }
 },
 "nbformat": 4,
 "nbformat_minor": 2
}
